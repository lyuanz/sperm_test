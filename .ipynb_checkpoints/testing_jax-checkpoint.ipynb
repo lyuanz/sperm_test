{
 "cells": [
  {
   "cell_type": "code",
   "execution_count": 13,
   "id": "a6149bb1-c0cb-4ccc-a829-e8be49dbcc88",
   "metadata": {},
   "outputs": [],
   "source": [
    "import jax.numpy as jnp\n",
    "from jax import jit\n",
    "from functools import partial"
   ]
  },
  {
   "cell_type": "code",
   "execution_count": 7,
   "id": "bc9ee8d1-75bb-4ec2-90a5-54e9773b1c5c",
   "metadata": {},
   "outputs": [
    {
     "data": {
      "text/plain": [
       "Array([0, 1, 2, 3, 3, 3], dtype=int32)"
      ]
     },
     "execution_count": 7,
     "metadata": {},
     "output_type": "execute_result"
    }
   ],
   "source": [
    "test = jnp.array([0, 1, 2])\n",
    "test2 = jnp.full(3, 3)\n",
    "jnp.concatenate([test, test2])"
   ]
  },
  {
   "cell_type": "code",
   "execution_count": 19,
   "id": "114a4bcb-0a7b-4ce9-9a0a-67241803bdc4",
   "metadata": {},
   "outputs": [],
   "source": [
    "class Sperm2D:\n",
    "    def __init__(self,\n",
    "                 length: float = 65.0,\n",
    "                 n_segments: int = 50,\n",
    "                 bending_modulus: float = 1800.0,\n",
    "                 amplitude: float = 0.2,\n",
    "                 wavenumber: float = 1.0,\n",
    "                 frequency: float = 1.0,\n",
    "                 phase: float = 0.0,\n",
    "                 init_position: jnp.ndarray = jnp.array([0.0, 0.0]),\n",
    "                 init_angle: float = 0.0,\n",
    "                 head_semi_major: float = 3.0,\n",
    "                 tail_radius: float = 1.0):\n",
    "        \"\"\"\n",
    "        Initialize a single 2D sperm filament.\n",
    "\n",
    "        Parameters\n",
    "        ----------\n",
    "        length : Total length of the filament (L).\n",
    "        n_segments : Number of discrete segments (N).\n",
    "        bending_modulus : Bending stiffness K_B.\n",
    "        amplitude, wavenumber, frequency, phase : Parameters for the preferred-curvature waveform kappa(s,t).\n",
    "        init_position : Initial position of the head tip of sperm\n",
    "        init_angle: Initial angle of the sperm\n",
    "        head_semi_major, tail_radius: radius of head and flagellum segments\n",
    "        \"\"\"\n",
    "        # Geometry & discretization\n",
    "        self.L       = length\n",
    "        self.N_flag  = n_segments\n",
    "        self.dL      = length / n_segments\n",
    "        self.a       = head_semi_major\n",
    "        self.b       = tail_radius\n",
    "\n",
    "        # radii and segment lengths as JAX arrays\n",
    "        self.radii   = jnp.concatenate([jnp.array([self.a]),\n",
    "                                        jnp.full(self.N_flag, self.b)])\n",
    "        self.lengths = jnp.concatenate([jnp.array([2*self.a]),\n",
    "                                        jnp.full(self.N_flag, self.dL)])\n",
    "\n",
    "        # Mechanical parameters\n",
    "        self.K_B  = bending_modulus\n",
    "        self.K0   = amplitude\n",
    "        self.k    = wavenumber\n",
    "        self.omega = frequency\n",
    "        self.phi = phase\n",
    "\n",
    "        # Precompute segment \"s\" coordinates for preferred curvature\n",
    "        self.s_mid = jnp.arange(self.dL/2,\n",
    "                            self.L,\n",
    "                            self.dL) # shape (N_flag, )\n",
    "\n",
    "        # midpoint position and angle of each segment including head\n",
    "        all_coords = jnp.concatenate([\n",
    "            jnp.array([self.a]),\n",
    "            self.s_mid + 1.1*self.a\n",
    "        ])\n",
    "        self.Y0 = jnp.stack([\n",
    "            init_position[0] + all_coords * jnp.cos(init_angle),\n",
    "            init_position[1] + all_coords * jnp.sin(init_angle)\n",
    "        ], axis=1)                       # shape (N_flag+1, 2)\n",
    "        self.thetas = jnp.full(self.N_flag+1, init_angle)\n",
    "        \n",
    "        # Lagrange multipliers for N_flag+2 constraints\n",
    "        self.Lambdas = jnp.zeros((self.N_flag+2, 2))\n",
    "\n",
    "    @partial(jax.jit, static_argnums=(0,))\n",
    "    def preferred_curvature(self, t: float) -> jnp.ndarray: # shape (N_flag, )\n",
    "        \"\"\"\n",
    "        Calculate the curvature at midpoints of each flagellum segment, head exclusive.\n",
    "\n",
    "        Parameters\n",
    "        ----------\n",
    "        t : time\n",
    "\n",
    "        Returns\n",
    "        -------\n",
    "        kappa : curvature\n",
    "        \"\"\"\n",
    "        base  = self.K0 * jnp.sin(2*jnp.pi*self.k*self.s_mid/self.L\n",
    "                                  - self.omega*t + self.phi)\n",
    "        decay = jnp.where(self.s_mid > self.L/2,\n",
    "                          1.0,\n",
    "                          2*self.s_mid/self.L)\n",
    "        return base * decay\n",
    "\n",
    "    @partial(jax.jit, static_argnums=(0,))\n",
    "    def internal_moment(self,\n",
    "                        theta: jnp.ndarray,   # shape (N_flag+1, )\n",
    "                        t: float) -> jnp.ndarray: # shape (N_flag+2, )\n",
    "        \"\"\"\n",
    "        Calculate the internal moments at the edge of each segment, head inclusive.\n",
    "\n",
    "        Parameters\n",
    "        ----------\n",
    "        theta : angle at the midpoint of each segment\n",
    "        t : time\n",
    "\n",
    "        Returns\n",
    "        -------\n",
    "        M : internal moments at segment edges\n",
    "        \"\"\"\n",
    "        kappa = self.preferred_curvature(t)                 # (N_flag, )\n",
    "        t_hat = jnp.stack([jnp.cos(theta), jnp.sin(theta)], axis=1)  # (N_flag+1, 2)\n",
    "\n",
    "        # cross product z‐component: t_i × t_{i+1}\n",
    "        cross = (t_hat[:-1,0]*t_hat[1:,1]\n",
    "                 - t_hat[:-1,1]*t_hat[1:,0])           # (N_flag, )\n",
    "\n",
    "        # delta_s for each edge\n",
    "        delta_s = jnp.concatenate([jnp.array([1.1*self.a+0.5*self.L]),\n",
    "                                    jnp.full(self.N_flag-1, self.dL)]) # (N_flag, )\n",
    "\n",
    "        # build M: zeros at boundaries, use vector ops\n",
    "        M_mid = self.K_B * (cross / delta_s - kappa)    # (N_flag, )\n",
    "        return jnp.concatenate([jnp.array([0.0]),\n",
    "                                M_mid,\n",
    "                                jnp.array([0.0])])  # (N_flag+2,)\n",
    "\n",
    "    @jit\n",
    "    def reconstruct_midpoints(self,\n",
    "                              Y1: jnp.ndarray,    # shape (2,)\n",
    "                              θ: jnp.ndarray      # shape (N_flag+1,)\n",
    "                              ) -> jnp.ndarray:    # returns (N_flag+1,2)\n",
    "        t_hat = jnp.stack([jnp.cos(θ), jnp.sin(θ)], axis=1)  # (N+1,2)\n",
    "\n",
    "        # build displacements without in‐place mutation\n",
    "        disp0 = jnp.zeros_like(t_hat)                       # (N+1,2)\n",
    "\n",
    "        # head‐link displacement\n",
    "        head_link = 0.5*(1.1*self.a + 0.5*self.dL) * (\n",
    "                        t_hat[0] + t_hat[1]\n",
    "                    )\n",
    "        # tail displacements\n",
    "        tail_disp = 0.5*self.dL * (\n",
    "                        t_hat[:-1] + t_hat[1:]\n",
    "                    )                                     # (N,2)\n",
    "\n",
    "        # scatter head_link and tail_disp into disp0\n",
    "        disp1 = disp0.at[1].set(head_link)\n",
    "        # tail_disp goes into positions 1→N\n",
    "        disp = disp1.at[1:].add(tail_disp)\n",
    "\n",
    "        return Y1 + jnp.cumsum(disp, axis=0)               # (N+1,2)\n"
   ]
  },
  {
   "cell_type": "code",
   "execution_count": 20,
   "id": "1a33f944-01b9-4ffb-867b-bcd9ba33fbbf",
   "metadata": {},
   "outputs": [],
   "source": [
    "sperm = Sperm2D()"
   ]
  },
  {
   "cell_type": "code",
   "execution_count": 22,
   "id": "7ccf03ad-3d91-488e-9e1f-933567685a16",
   "metadata": {},
   "outputs": [
    {
     "name": "stdout",
     "output_type": "stream",
     "text": [
      "15.9 μs ± 51.2 ns per loop (mean ± std. dev. of 7 runs, 100,000 loops each)\n"
     ]
    }
   ],
   "source": [
    "%%timeit\n",
    "sperm.internal_moment(sperm.thetas, 0)"
   ]
  },
  {
   "cell_type": "code",
   "execution_count": null,
   "id": "cd0e25d3-9212-42d8-b181-8c7e3e30165b",
   "metadata": {},
   "outputs": [],
   "source": []
  }
 ],
 "metadata": {
  "kernelspec": {
   "display_name": "Python 3 (ipykernel)",
   "language": "python",
   "name": "python3"
  },
  "language_info": {
   "codemirror_mode": {
    "name": "ipython",
    "version": 3
   },
   "file_extension": ".py",
   "mimetype": "text/x-python",
   "name": "python",
   "nbconvert_exporter": "python",
   "pygments_lexer": "ipython3",
   "version": "3.12.11"
  }
 },
 "nbformat": 4,
 "nbformat_minor": 5
}
