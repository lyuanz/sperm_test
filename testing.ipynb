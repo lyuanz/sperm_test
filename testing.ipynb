{
 "cells": [
  {
   "cell_type": "code",
   "execution_count": 4,
   "id": "603a98ca-dee1-4484-9a38-be0900558ecb",
   "metadata": {},
   "outputs": [],
   "source": [
    "import numpy as np"
   ]
  },
  {
   "cell_type": "code",
   "execution_count": 53,
   "id": "2a29ac23-98e7-4c83-ae67-1284d37cd293",
   "metadata": {},
   "outputs": [],
   "source": [
    "class Sperm2D:\n",
    "    def __init__(self,\n",
    "                 length=70.1,\n",
    "                 n_segments=50,\n",
    "                 bending_modulus=1800,\n",
    "                 amplitude=0.2,\n",
    "                 wavenumber=1.0, # Note: not the conventional wavenumner. 2*pi*k*l/L, where k is the wavenumber\n",
    "                 frequency=10.0,\n",
    "                init_position=[0, 0], # tip of head\n",
    "                init_angle=0,\n",
    "                phase=0,\n",
    "                head_semi_major=3,\n",
    "                head_semi_minor=1):\n",
    "        \"\"\"\n",
    "        Initialize a single 2D sperm filament.\n",
    "        \n",
    "        Parameters\n",
    "        ----------\n",
    "        length : float\n",
    "            Total length of the filament (L).\n",
    "        n_segments : int\n",
    "            Number of discrete segments (N).\n",
    "        bending_modulus : float\n",
    "            Bending stiffness K_B.\n",
    "        amplitude, wavenumber, frequency : float\n",
    "            Parameters for the preferred-curvature waveform kappa(s,t).\n",
    "        \"\"\"\n",
    "        # Geometry\n",
    "        self.L = length\n",
    "        self.N = n_segments\n",
    "        self.Delta_L = length / n_segments\n",
    "        self.a = head_semi_major\n",
    "        self.b = head_semi_minor\n",
    "        \n",
    "        # Mechanical parameters\n",
    "        self.K_B = bending_modulus\n",
    "        self.K_0 = amplitude\n",
    "        self.k = wavenumber\n",
    "        self.omega = frequency\n",
    "        self.phi = phase\n",
    "        \n",
    "        # State: positions Y[0..N], angles theta[0..N]\n",
    "        self.Y_0 = init_position\n",
    "        self.theta_0 = init_angle\n",
    "        segments = np.hstack([self.a, np.arange(self.Delta_L/2+2*self.a, self.L+2*self.a, self.Delta_L)])\n",
    "        self.Y = np.vstack([self.Y_0[0]+segments*np.cos(self.theta_0), self.Y_0[1]+segments*np.sin(self.theta_0)]).T # An array of length N+1 (midpoint of segmenets)\n",
    "        self.theta = np.array([init_angle]*(self.N+1)) # An array of length N+1 (midpoint of segments)\n",
    "        \n",
    "        # Lagrange multipliers for constraints (N+2 of them), corresponding to the edges of each segment\n",
    "        self.Lambda = np.zeros(self.N+2)\n",
    "    \n",
    "    def preferred_curvature(self, t):\n",
    "        \"\"\"\n",
    "        Traveling-wave preferred curvature Kappa(s,t) along filament using Eq. 2.1 of Schoeller et al. 2018\n",
    "        Returns an array of length N, corresponding to the midpoint of each filament segment only, i.e. no head.\n",
    "        \"\"\"\n",
    "        s = np.arange(self.Delta_L/2, self.L, self.Delta_L)\n",
    "        base = self.K_0 * np.sin(2*np.pi*self.k*s/self.L - self.omega*t)\n",
    "        decay = np.where(s > self.L/2, 2*(self.L - s)/self.L, 1.0)\n",
    "        return base * decay\n",
    "    \n",
    "    def internal_moment(self, t):\n",
    "        \"\"\"\n",
    "        Compute M_{n+1/2} for n=1..N+1 using Eq. 34 of Schoeller et al. 2020\n",
    "        Returns an array of length N+2, corresponding to the edges of each segment.\n",
    "        \"\"\"\n",
    "        kappa = self.preferred_curvature(t)\n",
    "        t_hat_x, t_hat_y = np.cos(self.theta), np.sin(self.theta)\n",
    "        cross = t_hat_x[:-1]*t_hat_y[1:] - t_hat_y[:-1]*t_hat_x[1:]\n",
    "        delta_s = np.zeros(self.N)\n",
    "        delta_s[0] = self.a+self.Delta_L/2\n",
    "        delta_s[1:] = self.Delta_L\n",
    "        M = np.zeros(self.N+2)\n",
    "        M[1:self.N+1] = self.K_B * (cross/delta_s - kappa)\n",
    "        return M\n",
    "    \n",
    "    # Placeholder methods to fill in next:\n",
    "    def compute_forces(self):\n",
    "        \"\"\"Assemble internal constraint + bending forces Fc.\"\"\"\n",
    "        pass\n",
    "    \n",
    "    def mobility(self):\n",
    "        \"\"\"Compute segment velocities via chosen hydrodynamic model.\"\"\"\n",
    "        pass\n",
    "    \n",
    "    def step(self, dt, Y_prev, theta_prev):\n",
    "        \"\"\"\n",
    "        Perform one implicit BDF2 time step:\n",
    "          - Form nonlinear residuals (position update, angle update, constraints)\n",
    "          - Solve for Y_new, theta_new, Lambda\n",
    "        \"\"\"\n",
    "        pass\n"
   ]
  },
  {
   "cell_type": "code",
   "execution_count": 54,
   "id": "d9df4180-dbd2-4b37-84c8-ea87231b8688",
   "metadata": {},
   "outputs": [],
   "source": [
    "sperm_1 = Sperm2D()"
   ]
  },
  {
   "cell_type": "code",
   "execution_count": 55,
   "id": "bb7ce5e7-a588-4d31-ba9a-3fdc6e8c2c28",
   "metadata": {},
   "outputs": [
    {
     "data": {
      "text/plain": [
       "array([   0.        ,  -22.60458703,  -67.45727325, -111.24611797,\n",
       "       -153.28054496, -192.89764619, -229.47263631, -262.42870587,\n",
       "       -291.24611797, -315.47040482, -334.71953492, -348.68993801,\n",
       "       -357.16129247, -360.        , -357.16129247, -348.68993801,\n",
       "       -334.71953492, -315.47040482, -291.24611797, -262.42870587,\n",
       "       -229.47263631, -192.89764619, -153.28054496, -111.24611797,\n",
       "        -67.45727325,  -22.60458703,   22.15249529,   63.40983686,\n",
       "        100.12150618,  131.82126867,  158.17606988,  178.98865632,\n",
       "        194.19724235,  203.87228258,  208.21046718,  207.52611165,\n",
       "        202.24016404,  192.86709794,  180.        ,  164.29419454,\n",
       "        146.44977396,  127.19342327,  107.25993764,   87.37383539,\n",
       "         68.23146353,   50.48397999,   34.72157631,   21.45927629,\n",
       "         11.1246118 ,    4.0474364 ,    0.45209174,    0.        ])"
      ]
     },
     "execution_count": 55,
     "metadata": {},
     "output_type": "execute_result"
    }
   ],
   "source": [
    "sperm_1.internal_moment(0)"
   ]
  },
  {
   "cell_type": "code",
   "execution_count": null,
   "id": "20e7a3be-0ce6-420e-98fd-c43788c57442",
   "metadata": {},
   "outputs": [],
   "source": []
  }
 ],
 "metadata": {
  "kernelspec": {
   "display_name": "Python 3 (ipykernel)",
   "language": "python",
   "name": "python3"
  },
  "language_info": {
   "codemirror_mode": {
    "name": "ipython",
    "version": 3
   },
   "file_extension": ".py",
   "mimetype": "text/x-python",
   "name": "python",
   "nbconvert_exporter": "python",
   "pygments_lexer": "ipython3",
   "version": "3.12.10"
  }
 },
 "nbformat": 4,
 "nbformat_minor": 5
}
