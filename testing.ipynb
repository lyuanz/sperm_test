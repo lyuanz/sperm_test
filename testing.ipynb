{
 "cells": [
  {
   "cell_type": "code",
   "execution_count": 82,
   "id": "603a98ca-dee1-4484-9a38-be0900558ecb",
   "metadata": {},
   "outputs": [],
   "source": [
    "import numpy as np\n",
    "import math as m"
   ]
  },
  {
   "cell_type": "code",
   "execution_count": 99,
   "id": "2a29ac23-98e7-4c83-ae67-1284d37cd293",
   "metadata": {},
   "outputs": [],
   "source": [
    "class Sperm2D:\n",
    "    def __init__(self,\n",
    "                 length=1.0,\n",
    "                 n_segments=50,\n",
    "                 bending_modulus=1e-2,\n",
    "                 amplitude=2.0,\n",
    "                 wavenumber=1.0,\n",
    "                 frequency=10.0,\n",
    "                init_position=[0, 0], # tip of head\n",
    "                init_angle=0,\n",
    "                phase=0,\n",
    "                head_semi_major=3,\n",
    "                head_semi_minor=1):\n",
    "        \"\"\"\n",
    "        Initialize a single 2D sperm filament.\n",
    "        \n",
    "        Parameters\n",
    "        ----------\n",
    "        length : float\n",
    "            Total length of the filament (L).\n",
    "        n_segments : int\n",
    "            Number of discrete segments (N).\n",
    "        bending_modulus : float\n",
    "            Bending stiffness K_B.\n",
    "        amplitude, wavelength, frequency : float\n",
    "            Parameters for the preferred-curvature waveform kappa(s,t).\n",
    "        \"\"\"\n",
    "        # Geometry\n",
    "        self.L = length\n",
    "        self.N = n_segments\n",
    "        self.Delta_L = length / n_segments\n",
    "        self.a = head_semi_major\n",
    "        self.b = head_semi_minor\n",
    "        \n",
    "        # Mechanical parameters\n",
    "        self.K_B = bending_modulus\n",
    "        self.K_0 = amplitude\n",
    "        self.k = wavenumber\n",
    "        self.omega = frequency\n",
    "        self.phi = phase\n",
    "        \n",
    "        # State: positions Y[0..N], angles theta[0..N]\n",
    "        self.Y_0 = init_position\n",
    "        self.theta_0 = init_angle\n",
    "        segments = np.array([self.a] + [self.L/(2*self.N)+2*self.a+self.L/self.N*i for i in range(self.N)])\n",
    "        self.Y = np.vstack([self.Y_0[0]+segments*np.cos(self.theta_0), self.Y_0[1]+segments*np.sin(self.theta_0)]).T # An array of length N+1 (midpoint of segmenets)\n",
    "        self.theta = np.array([init_angle]*(self.N+1)) # An array of length N+1 (midpoint of segments)\n",
    "        \n",
    "        # Lagrange multipliers for constraints (N of them)\n",
    "        self.Lambda = np.zeros(self.N+1)\n",
    "    \n",
    "    def preferred_curvature(self, t):\n",
    "        \"\"\"\n",
    "        Traveling-wave preferred curvature Kappa(s,t) along filament using Eq. 2.1 of Schoeller et al. 2018\n",
    "        Returns an array of length N, corresponding to the midpoint of each filament segment only, i.e. no head.\n",
    "        \"\"\"\n",
    "        s = [self.L/(2*self.N)+self.L/self.N*i for i in range(self.N)]\n",
    "        temp_list = [self.K_0 * m.sin(2*np.pi*self.k*i/self.L - self.omega*t) * (2*(self.L-i)/self.L if i > self.L/2 else 1) for i in s]\n",
    "        return np.array(temp_list)\n",
    "    \n",
    "    def internal_moment(self, t):\n",
    "        \"\"\"\n",
    "        Compute M_{n+1/2} for n=1..N-1 using Eq. 34 of Schoeller et al. 2020\n",
    "        Returns an array of length N+2.\n",
    "        \"\"\"\n",
    "        kappa = self.preferred_curvature(t)\n",
    "        t_hat_x, t_hat_y = np.cos(self.theta), np.sin(self.theta)\n",
    "        cross = (t_hat_x[:-1]*t_hat_y[1:] - t_hat_y[:-1]*t_hat_x[1:]) / self.Delta_L\n",
    "        temp_list = [0] + list(self.K_B * (cross - kappa)) + [0] # Internal moment at either free-end is 0\n",
    "        return np.array(temp_list)\n",
    "    \n",
    "    # Placeholder methods to fill in next:\n",
    "    def compute_forces(self):\n",
    "        \"\"\"Assemble internal constraint + bending forces Fc.\"\"\"\n",
    "        pass\n",
    "    \n",
    "    def mobility(self):\n",
    "        \"\"\"Compute segment velocities via chosen hydrodynamic model.\"\"\"\n",
    "        pass\n",
    "    \n",
    "    def step(self, dt, Y_prev, theta_prev):\n",
    "        \"\"\"\n",
    "        Perform one implicit BDF2 time step:\n",
    "          - Form nonlinear residuals (position update, angle update, constraints)\n",
    "          - Solve for Y_new, theta_new, Lambda\n",
    "        \"\"\"\n",
    "        pass\n"
   ]
  },
  {
   "cell_type": "code",
   "execution_count": 100,
   "id": "d9df4180-dbd2-4b37-84c8-ea87231b8688",
   "metadata": {},
   "outputs": [],
   "source": [
    "sperm_1 = Sperm2D()"
   ]
  },
  {
   "cell_type": "code",
   "execution_count": 102,
   "id": "379a4229-e80d-4b5e-8597-449583ce905f",
   "metadata": {},
   "outputs": [
    {
     "data": {
      "text/plain": [
       "array([ 0.00000000e+00, -1.25581039e-03, -3.74762629e-03, -6.18033989e-03,\n",
       "       -8.51558583e-03, -1.07165359e-02, -1.27484798e-02, -1.45793725e-02,\n",
       "       -1.61803399e-02, -1.75261336e-02, -1.85955297e-02, -1.93716632e-02,\n",
       "       -1.98422940e-02, -2.00000000e-02, -1.98422940e-02, -1.93716632e-02,\n",
       "       -1.85955297e-02, -1.75261336e-02, -1.61803399e-02, -1.45793725e-02,\n",
       "       -1.27484798e-02, -1.07165359e-02, -8.51558583e-03, -6.18033989e-03,\n",
       "       -3.74762629e-03, -1.25581039e-03,  1.23069418e-03,  3.52276871e-03,\n",
       "        5.56230590e-03,  7.32340381e-03,  8.78755944e-03,  9.94381424e-03,\n",
       "        1.07887357e-02,  1.13262379e-02,  1.15672482e-02,  1.15292284e-02,\n",
       "        1.12355647e-02,  1.07148388e-02,  1.00000000e-02,  9.12745525e-03,\n",
       "        8.13609855e-03,  7.06630129e-03,  5.95888542e-03,  4.85410197e-03,\n",
       "        3.79063686e-03,  2.80466555e-03,  1.92897646e-03,  1.19218202e-03,\n",
       "        6.18033989e-04,  2.24857578e-04,  2.51162078e-05,  0.00000000e+00])"
      ]
     },
     "execution_count": 102,
     "metadata": {},
     "output_type": "execute_result"
    }
   ],
   "source": [
    "sperm_1.internal_moment(0)"
   ]
  },
  {
   "cell_type": "code",
   "execution_count": null,
   "id": "bb7ce5e7-a588-4d31-ba9a-3fdc6e8c2c28",
   "metadata": {},
   "outputs": [],
   "source": []
  }
 ],
 "metadata": {
  "kernelspec": {
   "display_name": "Python 3 (ipykernel)",
   "language": "python",
   "name": "python3"
  },
  "language_info": {
   "codemirror_mode": {
    "name": "ipython",
    "version": 3
   },
   "file_extension": ".py",
   "mimetype": "text/x-python",
   "name": "python",
   "nbconvert_exporter": "python",
   "pygments_lexer": "ipython3",
   "version": "3.12.10"
  }
 },
 "nbformat": 4,
 "nbformat_minor": 5
}
